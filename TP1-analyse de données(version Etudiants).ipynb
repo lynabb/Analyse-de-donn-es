{
 "cells": [
  {
   "cell_type": "markdown",
   "metadata": {},
   "source": [
    "# Polytech Sorbonne-                                                                                    2021/2020"
   ]
  },
  {
   "cell_type": "markdown",
   "metadata": {},
   "source": [
    "# 1. Exercices de révision"
   ]
  },
  {
   "cell_type": "markdown",
   "metadata": {},
   "source": [
    "# Exercice 1:\n",
    "L’utilisateur donne un entier supérieur à 1 et le programme affiche, s’il y en a, tous ses diviseurs propres sans répétition ainsi que leur nombre. S’il n’y en a pas, il indique qu’il est premier. \n",
    "\n",
    "Par exemple : \n",
    "Entrez un entier strictement positif : 12 \n",
    "\n",
    "Diviseurs propres sans répétition de 12 : 2 3 4 6 (soit 4 diviseurs propres) \n",
    "\n",
    "Entrez un entier strictement positif : 13\n",
    "\n",
    "Diviseurs propres sans répétition de 13 : aucun ! Il est premier "
   ]
  },
  {
   "cell_type": "markdown",
   "metadata": {},
   "source": [
    "# Exercice 2\n",
    "Écrire une fonction eval(op, x1, x2) qui prend un caractère représentant une des 4 opérations binaires et 2 valeurs entières et qui applique l'opération à ces valeurs et en retourne le résultat. "
   ]
  },
  {
   "cell_type": "markdown",
   "metadata": {},
   "source": [
    "# Exercice 3\n",
    "Écrivez un programme affichant le mot le plus long d’une phrase entrée par l’utilisateur."
   ]
  },
  {
   "cell_type": "markdown",
   "metadata": {},
   "source": [
    "# Exercice 4\n",
    "Écrire une fonction miroir_string qui prend en paramètre une chaîne de caractères et qui inverse ses caractères dans une liste (la chaîne de caractères passée en paramètre est modifiée). Pour tester votre fonction, écrivez un programme affichant l’argument du programme à l’envers. \n",
    "\n",
    "Par exemple : \n",
    "\n",
    "ch=\"Trace\"\n",
    "miroir (ch) \n",
    "> [e,c,a,r,t] "
   ]
  },
  {
   "cell_type": "markdown",
   "metadata": {},
   "source": [
    "# Exercice 5\n",
    "\n",
    "Ecrire dans un fichier fizzbuzz.py un programme qui affiche les nombres de 1 à 100, sauf: \n",
    "\n",
    "• si le nombre est un multiple de 3 ou se termine par 3, auquel cas il affiche \"Fizz\" \n",
    "\n",
    "• si le nombre est un multiple de 7 ou se termine par 7, auquel cas il affiche \"Buzz\" \n",
    "\n",
    "• si le nombre vérifie les 2 propositions, le programme affiche \"FizzBuzz\" \n",
    "\n",
    "Le tester, et vérifier que l’on obtient bien (pour les 1`eres valeurs) \"1 2 Fizz 4 5 Fizz Buzz 8 Fizz 10 11 \n",
    "Fizz Fizz Buzz Fizz 16 Buzz Fizz ....\" "
   ]
  },
  {
   "cell_type": "markdown",
   "metadata": {},
   "source": [
    "# Exercice 6\n",
    "Créez un programme tirant un nombre au hasard entre 1 et 20 et demandant à l’utilisateur de deviner ce nombre en lui indiquant si sa proposition est supérieure ou inférieure au nombre tiré. \n",
    "\n",
    "Exemple :\n",
    "\n",
    "Entrez un nombre : 7 \n",
    "\n",
    "C'est plus \n",
    "\n",
    "Entrez un nombre : 13 \n",
    "\n",
    "C'est moins \n",
    "\n",
    "Entrez un nombre : 10\n",
    "\n",
    "Gagné ! "
   ]
  },
  {
   "cell_type": "markdown",
   "metadata": {},
   "source": [
    "# Exercice 7\n",
    "Soit un tableau 𝑇 trié par ordre croissant de ses valeurs. Écrire une fonction qui retourne le tableau inverse de 𝑇. "
   ]
  },
  {
   "cell_type": "markdown",
   "metadata": {},
   "source": [
    "# 2. Format CSV\n"
   ]
  },
  {
   "cell_type": "code",
   "execution_count": null,
   "metadata": {},
   "outputs": [],
   "source": [
    "import csv # bibliothèque csv en python \n",
    "f = open(\"fichier.csv\", \"r+\")  # ouverture du fichier csv en mode lecture\n",
    "r = csv.reader(f, delimiter=\",\") \n",
    "lignes = list(r) \n",
    "f.seek(0) # retour au début du fichier \n",
    "w = csv.writer(f, delimiter=\"#\") \n",
    "w.writerows(lignes) \n",
    "f.close() # fermeture du fichier "
   ]
  },
  {
   "cell_type": "markdown",
   "metadata": {},
   "source": [
    "# Exercice 8\n",
    "Écrire une fonction statsCSV(fichier) où fichier est le nom d'un fichier CSV et qui affiche le nombre de lignes et le nombre colonnes de la table stockée dans le fichier. "
   ]
  },
  {
   "cell_type": "markdown",
   "metadata": {},
   "source": [
    "# Exercice 9\n",
    "1- Ouvrir fichier \"laposte.hexasmal.csv\" déposé sur https://github.com/Houda-Harbaoui/Analyse-de-donn-es (à télécharger)  et placer dans le même répertoire que ce notebook) qui contient la liste des communes françaises avec leur code postal et code INSEE. Le nombre de communes de chaque département est compté et stocké dans un tableau. (On notera le traitement particulier de la Corse.) \n",
    "\n",
    "    -Question 1: \n",
    "\n",
    "Trouver le numéro du département contenant le moins de communes. \n",
    "\n",
    "    -Question 2: \n",
    "\n",
    "Aller chercher dans le fichier \"departement.csv\" déposé sur https://github.com/Houda-Harbaoui/Analyse-de-donn-es le nom de ce département. \n",
    "\n",
    " "
   ]
  },
  {
   "cell_type": "markdown",
   "metadata": {},
   "source": [
    "# Exercice 10\n",
    "Créer un fichier CSV \"resultats.csv\" listant tous les étudiants de la promo, triés par ordre croissant sur le nom. \n",
    "Chaque ligne a les colonnes suivantes : \n",
    "\n",
    "    NOM : nom de l'étudiant, \n",
    "\n",
    "    PRENOM : prénom de l'étudiant, \n",
    "\n",
    "    AGE : âge de l'étudiant, \n",
    "\n",
    "    NOTE : moyenne de l'année sur 20. \n",
    "\n",
    "Question1:\n",
    "Ecrire une fonction qui lit le fichier CSV et qui écrit : \n",
    "\n",
    "    le nombre d'étudiants ayant une note supérieure à 10, \n",
    "\n",
    "    le nombre d'étudiant ayant une note inférieure à 10, \n",
    "\n",
    "    la moyenne de la promo, \n",
    "\n",
    "    le major de promo, \n",
    "\n",
    "    l'étudiant ayant la plus basse note. \n",
    "\n",
    "Ecrire une fonction qui tri les résultats issu du fichier \"resultats.csv\" suivant la note par ordre croissant et qui sauvegarde le résultat dans un nouveau fichier CSV \"resultats-tries.csv\". \n"
   ]
  },
  {
   "cell_type": "code",
   "execution_count": null,
   "metadata": {},
   "outputs": [],
   "source": []
  },
  {
   "cell_type": "markdown",
   "metadata": {},
   "source": [
    "# Exercice Bonus\n",
    "Écrivez un programme permettant à un utilisateur de deviner un mot choisi au hasard dans un fichier dans lequel chaque ligne comporte un mot en capitale. L’utilisateur a 7 chances pour découvrir le mot en proposant une lettre à chaque fois. Si la lettre proposée n’est pas dans le mot, une chance lui est retirée. \n",
    "Exemple : \n",
    "- - - - - - - - (7 chances) \n",
    "Entrez une lettre : S \n",
    "- - - - - - - - (6 chances) \n",
    "Entrez une lettre : O \n",
    "- O - - - - - - (6 chances) \n",
    "... \n",
    "Bravo ! Le mot était JOURNAUX."
   ]
  }
 ],
 "metadata": {
  "kernelspec": {
   "display_name": "Python 3",
   "language": "python",
   "name": "python3"
  },
  "language_info": {
   "codemirror_mode": {
    "name": "ipython",
    "version": 3
   },
   "file_extension": ".py",
   "mimetype": "text/x-python",
   "name": "python",
   "nbconvert_exporter": "python",
   "pygments_lexer": "ipython3",
   "version": "3.7.3"
  }
 },
 "nbformat": 4,
 "nbformat_minor": 2
}
